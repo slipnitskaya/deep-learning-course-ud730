{
 "cells": [
  {
   "cell_type": "markdown",
   "metadata": {
    "id": "kR-4eNdK6lYS"
   },
   "source": [
    "Deep Learning\n",
    "=============\n",
    "\n",
    "Assignment 3\n",
    "------------\n",
    "\n",
    "Previously in `2_fullyconnected.ipynb`, you trained a logistic regression and a neural network model.\n",
    "\n",
    "The goal of this assignment is to explore regularization techniques."
   ]
  },
  {
   "cell_type": "code",
   "execution_count": 20,
   "metadata": {
    "cellView": "both",
    "id": "JLpLa8Jt7Vu4"
   },
   "outputs": [],
   "source": [
    "import logging\n",
    "import numpy as np\n",
    "import tensorflow as tf\n",
    "import matplotlib.pyplot as plt \n",
    "\n",
    "from six.moves import range\n",
    "from six.moves import cPickle as pickle\n",
    "\n",
    "tf.get_logger().setLevel(logging.ERROR)\n",
    "\n",
    "\n",
    "def reformat(dataset, labels, n_labels=10):\n",
    "    dataset = dataset.reshape((-1, dataset.shape[1] * dataset.shape[-1])).astype(np.float32)\n",
    "    labels = (np.arange(n_labels) == labels[:, None]).astype(np.float32)\n",
    "    \n",
    "    return dataset, labels\n",
    "\n",
    "\n",
    "def accuracy(predictions, labels):\n",
    "    return (100.0 * np.sum(np.argmax(predictions, 1) == np.argmax(labels, 1)) / predictions.shape[0])\n"
   ]
  },
  {
   "cell_type": "code",
   "execution_count": 21,
   "metadata": {
    "cellView": "both",
    "id": "y3-cj1bpmuxc"
   },
   "outputs": [
    {
     "name": "stdout",
     "output_type": "stream",
     "text": [
      "Training set (200000, 784) (200000, 10)\n",
      "Validation set (10000, 784) (10000, 10)\n",
      "Test set (10000, 784) (10000, 10)\n"
     ]
    }
   ],
   "source": [
    "pickle_file = 'data/notMNIST.pickle'\n",
    "\n",
    "with open(pickle_file, 'rb') as f:\n",
    "    save = pickle.load(f)\n",
    "    train_dataset = save['train_dataset']\n",
    "    train_labels = save['train_labels']\n",
    "    valid_dataset = save['valid_dataset']\n",
    "    valid_labels = save['valid_labels']\n",
    "    test_dataset = save['test_dataset']\n",
    "    test_labels = save['test_labels']\n",
    "    del save  \n",
    "    \n",
    "train_dataset, train_labels = reformat(train_dataset, train_labels)\n",
    "valid_dataset, valid_labels = reformat(valid_dataset, valid_labels)\n",
    "test_dataset, test_labels = reformat(test_dataset, test_labels)\n",
    "\n",
    "print('Training set', train_dataset.shape, train_labels.shape)\n",
    "print('Validation set', valid_dataset.shape, valid_labels.shape)\n",
    "print('Test set', test_dataset.shape, test_labels.shape)"
   ]
  },
  {
   "cell_type": "markdown",
   "metadata": {
    "id": "sgLbUAQ1CW-1"
   },
   "source": [
    "---\n",
    "Problem 1\n",
    "---------\n",
    "\n",
    "Introduce and tune L2 regularization for both logistic and neural network models. Remember that L2 amounts to adding a penalty on the norm of the weights to the loss. In TensorFlow, you can compute the L2 loss for a tensor `t` using `nn.l2_loss(t)`. The right amount of regularization should improve your validation / test accuracy.\n",
    "\n",
    "---"
   ]
  },
  {
   "cell_type": "code",
   "execution_count": 66,
   "metadata": {},
   "outputs": [
    {
     "name": "stdout",
     "output_type": "stream",
     "text": [
      "Test accuracy: 89.5%\n"
     ]
    },
    {
     "data": {
      "image/png": "[encoded data removed]",
      "text/plain": [
       "<Figure size 360x144 with 1 Axes>"
      ]
     },
     "metadata": {
      "needs_background": "light"
     },
     "output_type": "display_data"
    },
    {
     "name": "stdout",
     "output_type": "stream",
     "text": [
      "Test accuracy: 84.5%\n"
     ]
    },
    {
     "data": {
      "image/png": "[encoded data removed]",
      "text/plain": [
       "<Figure size 360x144 with 1 Axes>"
      ]
     },
     "metadata": {
      "needs_background": "light"
     },
     "output_type": "display_data"
    }
   ],
   "source": [
    "tf.compat.v1.set_random_seed(42)  \n",
    "\n",
    "class MultilayerPerceptron(object):\n",
    "    \n",
    "    def __init__(self, n_hidden: int = 1024, n_input: int = 784, n_labels: int = 10):\n",
    "\n",
    "        super().__init__()\n",
    "\n",
    "    def __call__(self, x):\n",
    "        layer_1 = tf.compat.v1.matmul(x, weights['h1']) + biases['b1']\n",
    "        activation = tf.nn.relu(layer_1)\n",
    "        \n",
    "        return tf.compat.v1.matmul(activation, weights['out']) + biases['out']\n",
    "        \n",
    "\n",
    "class LogisticRegression(object):\n",
    "    \n",
    "    def __init__(self, n_input: int = 784, n_labels: int = 10):\n",
    "\n",
    "        super().__init__()\n",
    "\n",
    "    def __call__(self, x):                      \n",
    "        return tf.compat.v1.matmul(x, weights['lm']) + biases['out']\n",
    "    \n",
    "\n",
    "# define training parameters   \n",
    "n_labels = 10\n",
    "train_subset = 10000\n",
    "\n",
    "lr = 0.1\n",
    "n_input = 784\n",
    "n_hidden = 1024\n",
    "batch_size = 128\n",
    "num_steps = 1001\n",
    "display_step = 100\n",
    "\n",
    "for est_class in [MultilayerPerceptron, LogisticRegression]:\n",
    "    est = est_class()\n",
    "    graph = tf.Graph()\n",
    "    with graph.as_default():\n",
    "        # load datasets\n",
    "        tf_train_dataset = tf.compat.v1.placeholder(tf.float32, shape=(batch_size, n_input))\n",
    "        tf_train_labels = tf.compat.v1.placeholder(tf.float32, shape=(batch_size, n_labels))\n",
    "        tf_valid_dataset = tf.constant(valid_dataset)\n",
    "        tf_test_dataset = tf.constant(test_dataset)\n",
    "\n",
    "        # initialize weights and biases\n",
    "        weights = {\n",
    "            'h1': tf.Variable(tf.compat.v1.truncated_normal([n_input, n_hidden])),\n",
    "            'out': tf.Variable(tf.compat.v1.truncated_normal([n_hidden, n_labels])),\n",
    "            'lm': tf.Variable(tf.compat.v1.truncated_normal([n_input, n_labels]))\n",
    "        }\n",
    "        biases = {'b1': tf.Variable(tf.zeros([n_hidden])), 'out': tf.Variable(tf.zeros([n_labels]))}\n",
    "\n",
    "        # train the model\n",
    "        logits = est(tf_train_dataset)\n",
    "        # loss = tf.reduce_mean(tf.nn.softmax_cross_entropy_with_logits(labels=tf_train_labels, logits=logits))\n",
    "\n",
    "        if isinstance(est, MultilayerPerceptron):\n",
    "            c = 0.01\n",
    "            l2_regularization = np.sum([c * tf.nn.l2_loss(weights['h1']), c * tf.nn.l2_loss(biases['b1']),\n",
    "                                   c * tf.nn.l2_loss(weights['out']), c * tf.nn.l2_loss(biases['out'])])\n",
    "        else: \n",
    "            #c = 1e-1\n",
    "            l2_regularization = np.sum([c * tf.nn.l2_loss(weights['lm']), c * tf.nn.l2_loss(biases['out'])])       \n",
    "        \n",
    "        loss = tf.reduce_mean(\n",
    "            tf.nn.softmax_cross_entropy_with_logits(labels=tf_train_labels, logits=logits) + l2_regularization)\n",
    "\n",
    "        optimizer = tf.compat.v1.train.GradientDescentOptimizer(lr).minimize(loss)\n",
    "\n",
    "        # get predictions\n",
    "        train_prediction = tf.nn.softmax(logits)\n",
    "        valid_prediction = tf.nn.softmax(est(tf_valid_dataset))\n",
    "        test_prediction = tf.nn.softmax(est(tf_test_dataset))\n",
    "\n",
    "    # model training\n",
    "    loss_logs = list()\n",
    "    with tf.compat.v1.Session(graph=graph) as session:\n",
    "        tf.compat.v1.global_variables_initializer().run()\n",
    "        for epoch in range(num_steps):\n",
    "            offset = (epoch * batch_size) % (train_labels.shape[0] - batch_size)\n",
    "            batch_data = train_dataset[offset:(offset + batch_size), :]\n",
    "            batch_labels = train_labels[offset:(offset + batch_size), :]\n",
    "\n",
    "            feed_dict = {tf_train_dataset : batch_data, tf_train_labels : batch_labels}\n",
    "            _, l, predictions = session.run(\n",
    "                [optimizer, loss, train_prediction], feed_dict=feed_dict)\n",
    "            loss_logs.append(l)\n",
    "        print(\"Test accuracy: %.1f%%\" % accuracy(test_prediction.eval(), test_labels))\n",
    "\n",
    "    plt.figure(figsize=(5,2))\n",
    "    plt.plot(loss_logs, label='train loss')\n",
    "    plt.title(f'Cross-entropy loss. Model: {est.__class__.__name__}')\n",
    "    plt.xlabel('epoch')\n",
    "    plt.ylabel('loss')\n",
    "    plt.legend()\n",
    "    plt.show()\n",
    "                                   \n",
    "    del est"
   ]
  },
  {
   "cell_type": "markdown",
   "metadata": {
    "id": "na8xX2yHZzNF"
   },
   "source": [
    "---\n",
    "Problem 2\n",
    "---------\n",
    "Let's demonstrate an extreme case of overfitting. Restrict your training data to just a few batches. What happens?\n",
    "\n",
    "---"
   ]
  },
  {
   "cell_type": "markdown",
   "metadata": {
    "id": "ww3SCBUdlkRc"
   },
   "source": [
    "---\n",
    "Problem 3\n",
    "---------\n",
    "Introduce Dropout on the hidden layer of the neural network. Remember: Dropout should only be introduced during training, not evaluation, otherwise your evaluation results would be stochastic as well. TensorFlow provides `nn.dropout()` for that, but you have to make sure it's only inserted during training.\n",
    "\n",
    "What happens to our extreme overfitting case?\n",
    "\n",
    "---"
   ]
  },
  {
   "cell_type": "markdown",
   "metadata": {
    "id": "-b1hTz3VWZjw"
   },
   "source": [
    "---\n",
    "Problem 4\n",
    "---------\n",
    "\n",
    "Try to get the best performance you can using a multi-layer model! The best reported test accuracy using a deep network is [97.1%](http://yaroslavvb.blogspot.com/2011/09/notmnist-dataset.html?showComment=1391023266211#c8758720086795711595).\n",
    "\n",
    "One avenue you can explore is to add multiple layers.\n",
    "\n",
    "Another one is to use learning rate decay:\n",
    "\n",
    "    global_step = tf.Variable(0)  # count the number of steps taken.\n",
    "    learning_rate = tf.train.exponential_decay(0.5, global_step, ...)\n",
    "    optimizer = tf.train.GradientDescentOptimizer(learning_rate).minimize(loss, global_step=global_step)\n",
    " \n",
    " ---\n"
   ]
  }
 ],
 "metadata": {
  "colab": {
   "name": "3_regularization.ipynb",
   "toc_visible": true
  },
  "kernelspec": {
   "display_name": "Python 3",
   "language": "python",
   "name": "python3"
  },
  "language_info": {
   "codemirror_mode": {
    "name": "ipython",
    "version": 3
   },
   "file_extension": ".py",
   "mimetype": "text/x-python",
   "name": "python",
   "nbconvert_exporter": "python",
   "pygments_lexer": "ipython3",
   "version": "3.7.7"
  }
 },
 "nbformat": 4,
 "nbformat_minor": 1
}
