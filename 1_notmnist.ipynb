{
 "cells": [
  {
   "cell_type": "markdown",
   "metadata": {
    "id": "5hIbr52I7Z7U"
   },
   "source": [
    "Deep Learning\n",
    "=============\n",
    "\n",
    "Assignment 1\n",
    "------------\n",
    "\n",
    "The objective of this assignment is to learn about simple data curation practices, and familiarize you with some of the data we'll be reusing later.\n",
    "\n",
    "This notebook uses the [notMNIST](http://yaroslavvb.blogspot.com/2011/09/notmnist-dataset.html) dataset to be used with python experiments. This dataset is designed to look like the classic [MNIST](http://yann.lecun.com/exdb/mnist/) dataset, while looking a little more like real data: it's a harder task, and the data is a lot less 'clean' than MNIST."
   ]
  },
  {
   "cell_type": "code",
   "execution_count": 1,
   "metadata": {
    "cellView": "both",
    "id": "apJbCsBHl-2A"
   },
   "outputs": [],
   "source": [
    "from __future__ import print_function\n",
    "\n",
    "import os\n",
    "import sys\n",
    "import tarfile\n",
    "import imageio\n",
    "import numpy as np\n",
    "import pandas as pd\n",
    "import matplotlib.pyplot as plt\n",
    "\n",
    "from IPython.display import Image\n",
    "from six.moves import cPickle as pickle\n",
    "from IPython.display import display, Image\n",
    "from sklearn.linear_model import LogisticRegression\n",
    "from six.moves.urllib.request import urlretrieve\n",
    "\n",
    "%matplotlib inline\n",
    "\n",
    "\n",
    "def download_progress_hook(count, blockSize, totalSize):\n",
    "    \"\"\"A hook to report the progress of a download. This is mostly intended for users with\n",
    "    slow internet connections. Reports every 5% change in download progress.\n",
    "   \"\"\"\n",
    "    global last_percent_reported\n",
    "    percent = int(count * blockSize * 100 / totalSize)\n",
    "\n",
    "    if last_percent_reported != percent:\n",
    "        if percent % 5 == 0:\n",
    "            sys.stdout.write(\"%s%%\" % percent)\n",
    "            sys.stdout.flush()\n",
    "        else:\n",
    "            sys.stdout.write(\".\")\n",
    "            sys.stdout.flush()\n",
    "        last_percent_reported = percent\n",
    "        \n",
    "def maybe_download(filename, expected_bytes, force=False):\n",
    "    \"\"\"Download a file if not present, and make sure it's the right size.\"\"\"\n",
    "    dest_filename = os.path.join(data_root, filename)\n",
    "    if force or not os.path.exists(dest_filename):\n",
    "        print('Attempting to download:', filename) \n",
    "        filename, _ = urlretrieve(url + filename, dest_filename, reporthook=download_progress_hook)\n",
    "        print('\\nDownload Complete!')\n",
    "    statinfo = os.stat(dest_filename)\n",
    "    if statinfo.st_size == expected_bytes:\n",
    "        print('Found and verified', dest_filename)\n",
    "    else:\n",
    "        raise Exception(\n",
    "            'Failed to verify ' + dest_filename + '. Can you get to it with a browser?')\n",
    "    \n",
    "    return dest_filename\n",
    "\n",
    "\n",
    "def maybe_extract(filename, force=False):\n",
    "    root = os.path.splitext(os.path.splitext(filename)[0])[0]  # remove .tar.gz\n",
    "    if os.path.isdir(root) and not force:\n",
    "      # You may override by setting force=True.\n",
    "      print('%s already present - Skipping extraction of %s.' % (root, filename))\n",
    "    else:\n",
    "        print('Extracting data for %s. This may take a while. Please wait.' % root)\n",
    "        tar = tarfile.open(filename)\n",
    "        sys.stdout.flush()\n",
    "        tar.extractall(data_root)\n",
    "        tar.close()\n",
    "    data_folders = [os.path.join(root, d) for d in sorted(os.listdir(root)) if os.path.isdir(os.path.join(root, d))]\n",
    "    if len(data_folders) != num_classes:\n",
    "        raise Exception(\n",
    "          'Expected %d folders, one per class. Found %d instead.' % (\n",
    "            num_classes, len(data_folders)))\n",
    "    print(data_folders)\n",
    "    \n",
    "    return data_folders\n",
    "\n",
    "    \n",
    "def load_letter(folder, min_num_images):\n",
    "    \"\"\"Load the data for a single letter label.\"\"\"\n",
    "    image_files = os.listdir(folder)\n",
    "    dataset = np.ndarray(shape=(len(image_files), image_size, image_size),\n",
    "                         dtype=np.float32)\n",
    "    print(folder)\n",
    "    num_images = 0\n",
    "    for image in image_files:\n",
    "        image_file = os.path.join(folder, image)\n",
    "        try:\n",
    "            image_data = (imageio.imread(image_file).astype(float) - \n",
    "                        pixel_depth / 2) / pixel_depth\n",
    "            if image_data.shape != (image_size, image_size):\n",
    "                raise Exception('Unexpected image shape: %s' % str(image_data.shape))\n",
    "                \n",
    "            dataset[num_images, :, :] = image_data\n",
    "            num_images = num_images + 1\n",
    "        except (IOError, ValueError) as e:\n",
    "            print('Could not read:', image_file, ':', e, '- it\\'s ok, skipping.')\n",
    "    \n",
    "    dataset = dataset[0:num_images, :, :]\n",
    "    if num_images < min_num_images:\n",
    "        raise Exception('Many fewer images than expected: %d < %d' %\n",
    "                    (num_images, min_num_images))\n",
    "    print('Full dataset tensor:', dataset.shape)\n",
    "    print('Mean:', np.mean(dataset))\n",
    "    print('Standard deviation:', np.std(dataset))\n",
    "    \n",
    "    return dataset\n",
    "    \n",
    "    \n",
    "def maybe_pickle(data_folders, min_num_images_per_class, force=False):\n",
    "    dataset_names = []\n",
    "    for folder in data_folders:\n",
    "        set_filename = folder + '.pickle'\n",
    "        dataset_names.append(set_filename)\n",
    "        if os.path.exists(set_filename) and not force:\n",
    "            # You may override by setting force=True.\n",
    "            print('%s already present - Skipping pickling.' % set_filename)\n",
    "        else:\n",
    "            print('Pickling %s.' % set_filename)\n",
    "            dataset = load_letter(folder, min_num_images_per_class)\n",
    "            try:\n",
    "                with open(set_filename, 'wb') as f:\n",
    "                    pickle.dump(dataset, f, pickle.HIGHEST_PROTOCOL)\n",
    "            except Exception as e:\n",
    "                print('Unable to save data to', set_filename, ':', e)\n",
    "    return dataset_names\n",
    "\n",
    "\n",
    "def make_arrays(nb_rows, img_size):\n",
    "    if nb_rows:\n",
    "        dataset = np.ndarray((nb_rows, img_size, img_size), dtype=np.float32)\n",
    "        labels = np.ndarray(nb_rows, dtype=np.int32)\n",
    "    else:\n",
    "        dataset, labels = None, None\n",
    "    \n",
    "    return dataset, labels\n",
    "\n",
    "\n",
    "def merge_datasets(pickle_files, train_size, valid_size=0):\n",
    "    num_classes = len(pickle_files)\n",
    "    valid_dataset, valid_labels = make_arrays(valid_size, image_size)\n",
    "    train_dataset, train_labels = make_arrays(train_size, image_size)\n",
    "    vsize_per_class = valid_size // num_classes\n",
    "    tsize_per_class = train_size // num_classes\n",
    "    \n",
    "    start_v, start_t = 0, 0\n",
    "    end_v, end_t = vsize_per_class, tsize_per_class\n",
    "    end_l = vsize_per_class+tsize_per_class\n",
    "    for label, pickle_file in enumerate(pickle_files):       \n",
    "        try:\n",
    "            with open(pickle_file, 'rb') as f:\n",
    "                letter_set = pickle.load(f)\n",
    "                # let's shuffle the letters to have random validation and training set\n",
    "                np.random.shuffle(letter_set)\n",
    "                if valid_dataset is not None:\n",
    "                    valid_letter = letter_set[:vsize_per_class, :, :]\n",
    "                    valid_dataset[start_v:end_v, :, :] = valid_letter\n",
    "                    valid_labels[start_v:end_v] = label\n",
    "                    start_v += vsize_per_class\n",
    "                    end_v += vsize_per_class\n",
    "\n",
    "                train_letter = letter_set[vsize_per_class:end_l, :, :]\n",
    "                train_dataset[start_t:end_t, :, :] = train_letter\n",
    "                train_labels[start_t:end_t] = label\n",
    "                start_t += tsize_per_class\n",
    "                end_t += tsize_per_class\n",
    "        except Exception as e:\n",
    "            print('Unable to process data from', pickle_file, ':', e)\n",
    "            raise\n",
    "    \n",
    "    return valid_dataset, valid_labels, train_dataset, train_labels\n",
    "\n",
    "\n",
    "def randomize(dataset, labels):\n",
    "    permutation = np.random.permutation(labels.shape[0])\n",
    "    shuffled_dataset = dataset[permutation,:,:]\n",
    "    shuffled_labels = labels[permutation]\n",
    "    \n",
    "    return shuffled_dataset, shuffled_labels"
   ]
  },
  {
   "cell_type": "markdown",
   "metadata": {
    "id": "jNWGtZaXn-5j"
   },
   "source": [
    "First, we'll download the dataset to our local machine. The data consists of characters rendered in a variety of fonts on a 28x28 image. The labels are limited to 'A' through 'J' (10 classes). The training set has about 500k and the testset 19000 labeled examples. Given these sizes, it should be possible to train models quickly on any machine."
   ]
  },
  {
   "cell_type": "code",
   "execution_count": 102,
   "metadata": {
    "cellView": "both",
    "id": "EYRJ4ICW6-da"
   },
   "outputs": [
    {
     "name": "stdout",
     "output_type": "stream",
     "text": [
      "Found and verified data/notMNIST_large.tar.gz\n",
      "Found and verified data/notMNIST_small.tar.gz\n"
     ]
    }
   ],
   "source": [
    "url = 'https://commondatastorage.googleapis.com/books1000/'\n",
    "last_percent_reported = None\n",
    "data_root = 'data' # Change me to store data elsewhere\n",
    "    \n",
    "train_filename = maybe_download('notMNIST_large.tar.gz', 247336696)\n",
    "test_filename = maybe_download('notMNIST_small.tar.gz', 8458043)"
   ]
  },
  {
   "cell_type": "markdown",
   "metadata": {
    "id": "cC3p0oEyF8QT"
   },
   "source": [
    "Extract the dataset from the compressed .tar.gz file.\n",
    "This should give you a set of directories, labeled A through J."
   ]
  },
  {
   "cell_type": "code",
   "execution_count": 103,
   "metadata": {
    "cellView": "both",
    "id": "H8CBE-WZ8nmj"
   },
   "outputs": [
    {
     "name": "stdout",
     "output_type": "stream",
     "text": [
      "data/notMNIST_large already present - Skipping extraction of data/notMNIST_large.tar.gz.\n",
      "['data/notMNIST_large/A', 'data/notMNIST_large/B', 'data/notMNIST_large/C', 'data/notMNIST_large/D', 'data/notMNIST_large/E', 'data/notMNIST_large/F', 'data/notMNIST_large/G', 'data/notMNIST_large/H', 'data/notMNIST_large/I', 'data/notMNIST_large/J']\n",
      "data/notMNIST_small already present - Skipping extraction of data/notMNIST_small.tar.gz.\n",
      "['data/notMNIST_small/A', 'data/notMNIST_small/B', 'data/notMNIST_small/C', 'data/notMNIST_small/D', 'data/notMNIST_small/E', 'data/notMNIST_small/F', 'data/notMNIST_small/G', 'data/notMNIST_small/H', 'data/notMNIST_small/I', 'data/notMNIST_small/J']\n"
     ]
    }
   ],
   "source": [
    "num_classes = 10\n",
    "np.random.seed(133)\n",
    "\n",
    "train_folders = maybe_extract(train_filename)\n",
    "test_folders = maybe_extract(test_filename)"
   ]
  },
  {
   "cell_type": "markdown",
   "metadata": {
    "id": "4riXK3IoHgx6"
   },
   "source": [
    "---\n",
    "Problem 1\n",
    "---------\n",
    "\n",
    "Let's take a peek at some of the data to make sure it looks sensible. Each exemplar should be an image of a character A through J rendered in a different font. Display a sample of the images that we just downloaded. Hint: you can use the package IPython.display.\n",
    "\n",
    "---"
   ]
  },
  {
   "cell_type": "code",
   "execution_count": 34,
   "metadata": {
    "scrolled": true
   },
   "outputs": [
    {
     "data": {
      "image/png": "[encoded data removed]",
      "text/plain": [
       "<IPython.core.display.Image object>"
      ]
     },
     "execution_count": 34,
     "metadata": {},
     "output_type": "execute_result"
    }
   ],
   "source": [
    "Image(os.path.join(train_folders[0], os.listdir(train_folders[0])[0]))"
   ]
  },
  {
   "cell_type": "markdown",
   "metadata": {
    "id": "PBdkjESPK8tw"
   },
   "source": [
    "Now let's load the data in a more manageable format. Since, depending on your computer setup you might not be able to fit it all in memory, we'll load each class into a separate dataset, store them on disk and curate them independently. Later we'll merge them into a single dataset of manageable size.\n",
    "\n",
    "We'll convert the entire dataset into a 3D array (image index, x, y) of floating point values, normalized to have approximately zero mean and standard deviation ~0.5 to make training easier down the road. \n",
    "\n",
    "A few images might not be readable, we'll just skip them."
   ]
  },
  {
   "cell_type": "code",
   "execution_count": 104,
   "metadata": {
    "cellView": "both",
    "id": "h7q0XhG3MJdf"
   },
   "outputs": [
    {
     "name": "stdout",
     "output_type": "stream",
     "text": [
      "Pickling data/notMNIST_large/A.pickle.\n",
      "data/notMNIST_large/A\n",
      "Could not read: data/notMNIST_large/A/SG90IE11c3RhcmQgQlROIFBvc3Rlci50dGY=.png : Could not find a format to read the specified file in single-image mode - it's ok, skipping.\n",
      "Could not read: data/notMNIST_large/A/RnJlaWdodERpc3BCb29rSXRhbGljLnR0Zg==.png : Could not find a format to read the specified file in single-image mode - it's ok, skipping.\n",
      "Could not read: data/notMNIST_large/A/Um9tYW5hIEJvbGQucGZi.png : Could not find a format to read the specified file in single-image mode - it's ok, skipping.\n",
      "Full dataset tensor: (52909, 28, 28)\n",
      "Mean: -0.12825027\n",
      "Standard deviation: 0.44312048\n",
      "Pickling data/notMNIST_large/B.pickle.\n",
      "data/notMNIST_large/B\n",
      "Could not read: data/notMNIST_large/B/TmlraXNFRi1TZW1pQm9sZEl0YWxpYy5vdGY=.png : Could not find a format to read the specified file in single-image mode - it's ok, skipping.\n",
      "Full dataset tensor: (52911, 28, 28)\n",
      "Mean: -0.0075630513\n",
      "Standard deviation: 0.45449144\n",
      "Pickling data/notMNIST_large/C.pickle.\n",
      "data/notMNIST_large/C\n",
      "Full dataset tensor: (52912, 28, 28)\n",
      "Mean: -0.14225815\n",
      "Standard deviation: 0.43980628\n",
      "Pickling data/notMNIST_large/D.pickle.\n",
      "data/notMNIST_large/D\n",
      "Could not read: data/notMNIST_large/D/VHJhbnNpdCBCb2xkLnR0Zg==.png : Could not find a format to read the specified file in single-image mode - it's ok, skipping.\n",
      "Full dataset tensor: (52911, 28, 28)\n",
      "Mean: -0.057367675\n",
      "Standard deviation: 0.45564744\n",
      "Pickling data/notMNIST_large/E.pickle.\n",
      "data/notMNIST_large/E\n",
      "Full dataset tensor: (52912, 28, 28)\n",
      "Mean: -0.06989893\n",
      "Standard deviation: 0.45294163\n",
      "Pickling data/notMNIST_large/F.pickle.\n",
      "data/notMNIST_large/F\n",
      "Full dataset tensor: (52912, 28, 28)\n",
      "Mean: -0.12558332\n",
      "Standard deviation: 0.4470897\n",
      "Pickling data/notMNIST_large/G.pickle.\n",
      "data/notMNIST_large/G\n",
      "Full dataset tensor: (52912, 28, 28)\n",
      "Mean: -0.09458163\n",
      "Standard deviation: 0.4462394\n",
      "Pickling data/notMNIST_large/H.pickle.\n",
      "data/notMNIST_large/H\n",
      "Full dataset tensor: (52912, 28, 28)\n",
      "Mean: -0.068522185\n",
      "Standard deviation: 0.4542316\n",
      "Pickling data/notMNIST_large/I.pickle.\n",
      "data/notMNIST_large/I\n",
      "Full dataset tensor: (52912, 28, 28)\n",
      "Mean: 0.030786205\n",
      "Standard deviation: 0.4688983\n",
      "data/notMNIST_large/J.pickle already present - Skipping pickling.\n",
      "Pickling data/notMNIST_small/A.pickle.\n",
      "data/notMNIST_small/A\n",
      "Could not read: data/notMNIST_small/A/RGVtb2NyYXRpY2FCb2xkT2xkc3R5bGUgQm9sZC50dGY=.png : Could not find a format to read the specified file in single-image mode - it's ok, skipping.\n",
      "Full dataset tensor: (1872, 28, 28)\n",
      "Mean: -0.13262634\n",
      "Standard deviation: 0.4451279\n",
      "Pickling data/notMNIST_small/B.pickle.\n",
      "data/notMNIST_small/B\n",
      "Full dataset tensor: (1873, 28, 28)\n",
      "Mean: 0.0053560818\n",
      "Standard deviation: 0.4571153\n",
      "Pickling data/notMNIST_small/C.pickle.\n",
      "data/notMNIST_small/C\n",
      "Full dataset tensor: (1873, 28, 28)\n",
      "Mean: -0.14152054\n",
      "Standard deviation: 0.44269025\n",
      "Pickling data/notMNIST_small/D.pickle.\n",
      "data/notMNIST_small/D\n",
      "Full dataset tensor: (1873, 28, 28)\n",
      "Mean: -0.04921664\n",
      "Standard deviation: 0.45975894\n",
      "Pickling data/notMNIST_small/E.pickle.\n",
      "data/notMNIST_small/E\n",
      "Full dataset tensor: (1873, 28, 28)\n",
      "Mean: -0.05991475\n",
      "Standard deviation: 0.45734972\n",
      "Pickling data/notMNIST_small/F.pickle.\n",
      "data/notMNIST_small/F\n",
      "Could not read: data/notMNIST_small/F/Q3Jvc3NvdmVyIEJvbGRPYmxpcXVlLnR0Zg==.png : Could not find a format to read the specified file in single-image mode - it's ok, skipping.\n",
      "Full dataset tensor: (1872, 28, 28)\n",
      "Mean: -0.11818533\n",
      "Standard deviation: 0.45227864\n",
      "Pickling data/notMNIST_small/G.pickle.\n",
      "data/notMNIST_small/G\n",
      "Full dataset tensor: (1872, 28, 28)\n",
      "Mean: -0.09255034\n",
      "Standard deviation: 0.44900584\n",
      "Pickling data/notMNIST_small/H.pickle.\n",
      "data/notMNIST_small/H\n",
      "Full dataset tensor: (1872, 28, 28)\n",
      "Mean: -0.05868922\n",
      "Standard deviation: 0.45875895\n",
      "Pickling data/notMNIST_small/I.pickle.\n",
      "data/notMNIST_small/I\n",
      "Full dataset tensor: (1872, 28, 28)\n",
      "Mean: 0.052645065\n",
      "Standard deviation: 0.47189358\n",
      "data/notMNIST_small/J.pickle already present - Skipping pickling.\n"
     ]
    }
   ],
   "source": [
    "image_size = 28  # Pixel width and height.\n",
    "pixel_depth = 255.0  # Number of levels per pixel.\n",
    "    \n",
    "train_datasets = maybe_pickle(train_folders, 45000)\n",
    "test_datasets = maybe_pickle(test_folders, 1800)"
   ]
  },
  {
   "cell_type": "markdown",
   "metadata": {
    "id": "vUdbskYE2d87"
   },
   "source": [
    "---\n",
    "Problem 2\n",
    "---------\n",
    "\n",
    "Let's verify that the data still looks good. Displaying a sample of the labels and images from the ndarray. Hint: you can use matplotlib.pyplot.\n",
    "\n",
    "---"
   ]
  },
  {
   "cell_type": "code",
   "execution_count": 106,
   "metadata": {},
   "outputs": [
    {
     "data": {
      "image/png": "[encoded data removed]",
      "text/plain": [
       "<Figure size 720x720 with 5 Axes>"
      ]
     },
     "metadata": {
      "needs_background": "light"
     },
     "output_type": "display_data"
    }
   ],
   "source": [
    "data_i = pd.read_pickle(train_datasets[0])\n",
    "fig, axs = plt.subplots(1, 5, figsize=(10, 10))\n",
    "\n",
    "for i in range(5):\n",
    "    axs[i].imshow(data_i[i,:,:])\n",
    "plt.tight_layout()\n",
    "plt.show()"
   ]
  },
  {
   "cell_type": "markdown",
   "metadata": {
    "id": "cYznx5jUwzoO"
   },
   "source": [
    "---\n",
    "Problem 3\n",
    "---------\n",
    "Another check: we expect the data to be balanced across classes. Verify that.\n",
    "\n",
    "---"
   ]
  },
  {
   "cell_type": "code",
   "execution_count": 149,
   "metadata": {},
   "outputs": [
    {
     "name": "stdout",
     "output_type": "stream",
     "text": [
      "test: 1872 +/- 0.49 (Mean +/- SD)\n",
      "train: 52911 +/- 0.92 (Mean +/- SD)\n"
     ]
    }
   ],
   "source": [
    "data_size = dict()\n",
    "for splitname, split in zip(['test', 'train'], [test_datasets, train_datasets]):\n",
    "    for file in split:\n",
    "        data_size[f\"{splitname}-{os.path.basename(file).split('.')[0]}\"] = pd.read_pickle(file).shape[0]\n",
    "    \n",
    "    split_size = [v for k, v in data_size.items() if k.startswith(splitname)]\n",
    "    mean, std = np.mean(split_size), np.std(split_size)\n",
    "    print(f\"{splitname}: {np.int(mean)} +/- {np.round(std, 2)} (Mean +/- SD)\")"
   ]
  },
  {
   "cell_type": "markdown",
   "metadata": {
    "id": "LA7M7K22ynCt"
   },
   "source": [
    "Merge and prune the training data as needed. Depending on your computer setup, you might not be able to fit it all in memory, and you can tune `train_size` as needed. The labels will be stored into a separate array of integers 0 through 9.\n",
    "\n",
    "Also create a validation dataset for hyperparameter tuning."
   ]
  },
  {
   "cell_type": "code",
   "execution_count": 126,
   "metadata": {
    "cellView": "both",
    "id": "s3mWgZLpyuzq"
   },
   "outputs": [
    {
     "name": "stdout",
     "output_type": "stream",
     "text": [
      "Training: (200000, 28, 28) (200000,)\n",
      "Validation: (10000, 28, 28) (10000,)\n",
      "Testing: (10000, 28, 28) (10000,)\n"
     ]
    }
   ],
   "source": [
    "train_size = 200000\n",
    "valid_size = 10000\n",
    "test_size = 10000\n",
    "\n",
    "valid_dataset, valid_labels, train_dataset, train_labels = merge_datasets(\n",
    "  train_datasets, train_size, valid_size)\n",
    "_, _, test_dataset, test_labels = merge_datasets(test_datasets, test_size)\n",
    "\n",
    "print('Training:', train_dataset.shape, train_labels.shape)\n",
    "print('Validation:', valid_dataset.shape, valid_labels.shape)\n",
    "print('Testing:', test_dataset.shape, test_labels.shape)"
   ]
  },
  {
   "cell_type": "markdown",
   "metadata": {
    "id": "GPTCnjIcyuKN"
   },
   "source": [
    "Next, we'll randomize the data. It's important to have the labels well shuffled for the training and test distributions to match."
   ]
  },
  {
   "cell_type": "code",
   "execution_count": 37,
   "metadata": {
    "cellView": "both",
    "id": "6WZ2l2tN2zOL"
   },
   "outputs": [],
   "source": [
    "train_dataset, train_labels = randomize(train_dataset, train_labels)\n",
    "test_dataset, test_labels = randomize(test_dataset, test_labels)\n",
    "valid_dataset, valid_labels = randomize(valid_dataset, valid_labels)"
   ]
  },
  {
   "cell_type": "markdown",
   "metadata": {
    "id": "puDUTe6t6USl"
   },
   "source": [
    "---\n",
    "Problem 4\n",
    "---------\n",
    "Convince yourself that the data is still good after shuffling!\n",
    "\n",
    "---"
   ]
  },
  {
   "cell_type": "code",
   "execution_count": 38,
   "metadata": {},
   "outputs": [
    {
     "name": "stdout",
     "output_type": "stream",
     "text": [
      "Training: (200000, 28, 28) (200000,)\n",
      "Validation: (10000, 28, 28) (10000,)\n",
      "Testing: (10000, 28, 28) (10000,)\n"
     ]
    }
   ],
   "source": [
    "print('Training:', train_dataset.shape, train_labels.shape)\n",
    "print('Validation:', valid_dataset.shape, valid_labels.shape)\n",
    "print('Testing:', test_dataset.shape, test_labels.shape)"
   ]
  },
  {
   "cell_type": "markdown",
   "metadata": {
    "id": "tIQJaJuwg5Hw"
   },
   "source": [
    "Finally, let's save the data for later reuse:"
   ]
  },
  {
   "cell_type": "code",
   "execution_count": 41,
   "metadata": {
    "cellView": "both",
    "id": "QiR_rETzem6C"
   },
   "outputs": [],
   "source": [
    "pickle_file = os.path.join(data_root, 'notMNIST.pickle')\n",
    "\n",
    "try:\n",
    "    f = open(pickle_file, 'wb')\n",
    "    save = {\n",
    "        'train_dataset': train_dataset,\n",
    "        'train_labels': train_labels,\n",
    "        'valid_dataset': valid_dataset,\n",
    "        'valid_labels': valid_labels,\n",
    "        'test_dataset': test_dataset,\n",
    "        'test_labels': test_labels\n",
    "    }\n",
    "    pickle.dump(save, f, pickle.HIGHEST_PROTOCOL)\n",
    "    f.close()\n",
    "except Exception as e:\n",
    "    print('Unable to save data to', pickle_file, ':', e)\n",
    "    raise"
   ]
  },
  {
   "cell_type": "code",
   "execution_count": 152,
   "metadata": {
    "cellView": "both",
    "id": "hQbLjrW_iT39"
   },
   "outputs": [
    {
     "name": "stdout",
     "output_type": "stream",
     "text": [
      "Compressed pickle size: 690800506\n"
     ]
    }
   ],
   "source": [
    "statinfo = os.stat(pickle_file)\n",
    "print('Compressed pickle size:', statinfo.st_size)"
   ]
  },
  {
   "cell_type": "markdown",
   "metadata": {
    "id": "gE_cRAQB33lk"
   },
   "source": [
    "---\n",
    "Problem 5\n",
    "---------\n",
    "\n",
    "By construction, this dataset might contain a lot of overlapping samples, including training data that's also contained in the validation and test set! Overlap between training and test can skew the results if you expect to use your model in an environment where there is never an overlap, but are actually ok if you expect to see training samples recur when you use it.\n",
    "Measure how much overlap there is between training, validation and test samples.\n",
    "\n",
    "---"
   ]
  },
  {
   "cell_type": "code",
   "execution_count": 2,
   "metadata": {},
   "outputs": [],
   "source": [
    "import cv2, tqdm, hashlib\n",
    "import multiprocessing as mp\n",
    "\n",
    "from math import copysign\n",
    "from collections import defaultdict\n",
    "\n",
    "DATASET = None\n",
    "# TEST_DS = None\n",
    "# TRAIN_DS = None\n",
    "\n",
    "def md5(img_bytes):\n",
    "    md5_hash = hashlib.md5()\n",
    "    md5_hash.update(img_bytes) \n",
    "    \n",
    "    return md5_hash.hexdigest()\n",
    "\n",
    "\n",
    "def huMoments(img):\n",
    "    _, img = cv2.threshold(img, 128, 255, cv2.THRESH_BINARY)\n",
    "    moments = cv2.moments(img)\n",
    "    hu_moments = cv2.HuMoments(moments)\n",
    "    for i in range(0, 7):\n",
    "        hu_moments[i] = -1 * copysign(1.0, hu_moments[i]) * np.log10(abs(hu_moments[i]) + np.finfo(hu_moments.dtype).eps)\n",
    "    \n",
    "    return hu_moments\n",
    "\n",
    "\n",
    "def worker_md5(idx):\n",
    "    return idx, md5(DATASET[idx].tobytes())\n",
    "\n",
    "\n",
    "def worker_hu(idx):\n",
    "    return idx, huMoments(DATASET[idx])\n",
    "\n",
    "\n",
    "def pool_init(ds):\n",
    "    global DATASET\n",
    "    DATASET = ((ds + 0.5) * 255).astype(np.uint8)\n",
    "    \n",
    "    \n",
    "# def worker(idx):\n",
    "#     return idx, np.mean((TRAIN_DS - TEST_DS[idx][np.newaxis]) ** 2, axis=(-1, -2))\n",
    "\n",
    "\n",
    "# def pool_init(train_ds, test_ds):\n",
    "#     global TRAIN_DS, TEST_DS\n",
    "#     TRAIN_DS = train_ds\n",
    "#     TEST_DS = test_ds\n",
    "\n",
    "    \n",
    "data = pd.read_pickle('data/notMNIST.pickle')\n",
    "test_dataset = data['test_dataset']#.astype('float16')\n",
    "train_dataset = data['train_dataset']#.astype('float16')\n",
    "valid_dataset = data['valid_dataset']#.astype('float16')"
   ]
  },
  {
   "cell_type": "code",
   "execution_count": 21,
   "metadata": {
    "scrolled": true
   },
   "outputs": [
    {
     "name": "stderr",
     "output_type": "stream",
     "text": [
      "100%|██████████| 10000/10000 [00:00<00:00, 886707.54it/s]\n",
      "100%|██████████| 200000/200000 [00:00<00:00, 826019.50it/s]\n",
      "100%|██████████| 10000/10000 [00:00<00:00, 669182.81it/s]\n"
     ]
    },
    {
     "name": "stdout",
     "output_type": "stream",
     "text": [
      "# of duplicates in train dataset: 1106 (test), 0 - (validation)\n"
     ]
    }
   ],
   "source": [
    "# detect duplicates\n",
    "hashes = defaultdict(list)\n",
    "for splitname, dataset in zip(['test', 'train', 'valid'], [test_dataset, train_dataset, valid_dataset]):\n",
    "    with mp.Pool(12, pool_init, (dataset,)) as pool:\n",
    "        for idx, md5_hash in tqdm.tqdm(\n",
    "            pool.imap_unordered(worker_md5, range(dataset.shape[0]), chunksize=100), total=dataset.shape[0]\n",
    "        ):\n",
    "            hashes[splitname].append(md5_hash)\n",
    "            \n",
    "            \n",
    "# dist_mat = np.full((train_dataset.shape[0], test_dataset.shape[0]), np.inf, dtype=np.float16)           \n",
    "# with mp.Pool(10, pool_init, (test_dataset, train_dataset)) as pool:        \n",
    "#     for idx, mse in tqdm.tqdm(\n",
    "#         pool.imap_unordered(worker, range(train_dataset.shape[0]), chunksize=1000), total=train_dataset.shape[0]\n",
    "#     ):\n",
    "#         dist_mat[idx] = mse\n",
    "\n",
    "print('# of duplicates in train dataset: {} (test), {} - (validation)'.format(\n",
    "    len(set(hashes['test']) & set(hashes['train'])), len(set(hashes['validation']) & set(hashes['train'])))\n",
    "     )"
   ]
  },
  {
   "cell_type": "markdown",
   "metadata": {},
   "source": [
    "Optional questions:\n",
    "- What about near duplicates between datasets? (images that are almost identical)\n",
    "---"
   ]
  },
  {
   "cell_type": "code",
   "execution_count": 4,
   "metadata": {},
   "outputs": [
    {
     "name": "stderr",
     "output_type": "stream",
     "text": [
      "100%|██████████| 10000/10000 [00:00<00:00, 41008.58it/s]\n",
      "100%|██████████| 200000/200000 [00:07<00:00, 25117.55it/s]\n",
      "100%|██████████| 10000/10000 [00:00<00:00, 35883.53it/s]\n"
     ]
    }
   ],
   "source": [
    "hu_moments = defaultdict(list)\n",
    "for splitname, dataset in zip(['test', 'train', 'valid'], [test_dataset, train_dataset, valid_dataset]):\n",
    "    with mp.Pool(12, pool_init, (dataset,)) as pool:\n",
    "        for idx, moments in tqdm.tqdm(\n",
    "            pool.imap_unordered(worker_hu, range(dataset.shape[0]), chunksize=100), total=dataset.shape[0]\n",
    "        ):\n",
    "            hu_moments[splitname].append(moments)"
   ]
  },
  {
   "cell_type": "code",
   "execution_count": 22,
   "metadata": {},
   "outputs": [
    {
     "name": "stderr",
     "output_type": "stream",
     "text": [
      "100%|██████████| 11/11 [05:03<00:00, 27.55s/it]\n"
     ]
    }
   ],
   "source": [
    "import scipy.spatial.distance as spd\n",
    "\n",
    "moments_train = np.array(hu_moments['train'], dtype=np.float16).reshape(-1, 1, 7)\n",
    "moments_test = np.array(hu_moments['test'], dtype=np.float16).reshape(1, -1, 7)\n",
    "\n",
    "dist_mat = np.zeros((moments_train.shape[0], moments_test.shape[1]), dtype=np.float16)\n",
    "batch_size = 2 * moments_test.shape[1]\n",
    "\n",
    "for start in tqdm.trange(0, moments_train.shape[0] + 1, batch_size):\n",
    "    end = start + batch_size\n",
    "    batch = moments_train[start:end].reshape(-1, 1, 7)\n",
    "    dist_mat[start:end] = np.mean((moments_test - batch) ** 2, axis=-1)\n",
    "    \n",
    "np.save('data/dist_mat_test_train', dist_mat)"
   ]
  },
  {
   "cell_type": "code",
   "execution_count": 3,
   "metadata": {},
   "outputs": [
    {
     "data": {
      "image/png": "[encoded data removed]",
      "text/plain": [
       "<Figure size 360x216 with 1 Axes>"
      ]
     },
     "metadata": {
      "needs_background": "light"
     },
     "output_type": "display_data"
    }
   ],
   "source": [
    "dist_mat = np.load('data/dist_mat_test_train.npy')\n",
    "\n",
    "percentiles = [5, 10, 12, 15, 17, 20, 25, 50, 75]\n",
    "perc_vals = np.percentile(dist_mat, percentiles)\n",
    "\n",
    "diff_abs = np.diff(perc_vals)\n",
    "diff_norm_right_bound = diff_abs / perc_vals[1:]\n",
    "diff_max_increase_norm_idx = np.argmax(diff_norm_right_bound)\n",
    "threshold = perc_vals[diff_max_increase_norm_idx]\n",
    "\n",
    "plt.figure(figsize=(5,3))\n",
    "plt.plot(percentiles, perc_vals)\n",
    "plt.axhline(threshold, ls='--', color='gray')\n",
    "plt.text(15, threshold + 5,'near duplicates')\n",
    "plt.title('Detection of almost-identical images')\n",
    "plt.xlabel('percentiles')\n",
    "plt.ylabel('Hu moments dissimilarity')\n",
    "plt.show()"
   ]
  },
  {
   "cell_type": "markdown",
   "metadata": {
    "id": "L8oww1s4JMQx"
   },
   "source": [
    "---\n",
    "Problem 6\n",
    "---------\n",
    "\n",
    "Let's get an idea of what an off-the-shelf classifier can give you on this data. It's always good to check that there is something to learn, and that it's a problem that is not so trivial that a canned solution solves it.\n",
    "\n",
    "Train a simple model on this data using 50, 100, 1000 and 5000 training samples. Hint: you can use the LogisticRegression model from sklearn.linear_model.\n",
    "\n",
    "Optional question: train an off-the-shelf model on all the data!\n",
    "\n",
    "---"
   ]
  },
  {
   "cell_type": "code",
   "execution_count": 93,
   "metadata": {},
   "outputs": [
    {
     "data": {
      "image/png": "[encoded data removed]",
      "text/plain": [
       "<Figure size 360x216 with 1 Axes>"
      ]
     },
     "metadata": {
      "needs_background": "light"
     },
     "output_type": "display_data"
    }
   ],
   "source": [
    "import random\n",
    "from sklearn.linear_model import LogisticRegression\n",
    "\n",
    "scores_train = list()\n",
    "scores_test = list()\n",
    "train_sizes = [50, 100, 1000, 5000, train_dataset.shape[0]//2]\n",
    "for train_size in train_sizes:\n",
    "    test_size = min(test_dataset.shape[0], np.int(np.round(0.2 * train_size)))\n",
    "\n",
    "    ids_train = random.sample(range(len(train_dataset)), train_size)\n",
    "    ids_test = random.sample(range(len(test_dataset)), test_size)\n",
    "    \n",
    "    X_train = train_dataset[ids_train].reshape(train_size, -1)\n",
    "    X_test = test_dataset[ids_test].reshape(test_size, -1)\n",
    "    \n",
    "    y_train = data['train_labels'][ids_train]\n",
    "    y_test = data['test_labels'][ids_test]\n",
    "    \n",
    "    est = LogisticRegression(random_state=42, n_jobs=-1)\n",
    "    est.fit(X_train, y_train)\n",
    "    scores_train.append(est.score(X_train, y_train))\n",
    "    scores_test.append(est.score(X_test, y_test))\n",
    "    \n",
    "plt.figure(figsize=(5, 3))\n",
    "plt.title('Performance of models')\n",
    "plt.plot(train_sizes, scores_test, marker='o', label='test score')\n",
    "plt.plot(train_sizes, scores_train, marker='o', label='train score')\n",
    "plt.xlabel('train size')\n",
    "plt.ylabel('accuracy')\n",
    "plt.legend()\n",
    "plt.show()"
   ]
  }
 ],
 "metadata": {
  "colab": {
   "name": "1_notmnist.ipynb",
   "toc_visible": true
  },
  "kernelspec": {
   "display_name": "Python 3",
   "language": "python",
   "name": "python3"
  },
  "language_info": {
   "codemirror_mode": {
    "name": "ipython",
    "version": 3
   },
   "file_extension": ".py",
   "mimetype": "text/x-python",
   "name": "python",
   "nbconvert_exporter": "python",
   "pygments_lexer": "ipython3",
   "version": "3.7.7"
  }
 },
 "nbformat": 4,
 "nbformat_minor": 1
}
